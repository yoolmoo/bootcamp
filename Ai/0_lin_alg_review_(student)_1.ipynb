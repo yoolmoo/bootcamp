{
 "cells": [
  {
   "cell_type": "code",
   "execution_count": 3,
   "id": "897390fc",
   "metadata": {},
   "outputs": [
    {
     "name": "stdout",
     "output_type": "stream",
     "text": [
      "[2 3 4]\n",
      "[[1 2 3]\n",
      " [4 5 6]]\n"
     ]
    }
   ],
   "source": [
    "import numpy as np\n",
    "\n",
    "#basics (3p)\n",
    "vec1=np.array([2,3,4])#r3안에 벡터공간 만든것\n",
    "mat1=np.array([[1,2,3],[4,5,6]])\n",
    "print(vec1)\n",
    "print(mat1)"
   ]
  },
  {
   "cell_type": "code",
   "execution_count": 14,
   "id": "c40272bd",
   "metadata": {},
   "outputs": [
    {
     "name": "stdout",
     "output_type": "stream",
     "text": [
      "6\n",
      "3.3520244595616826\n"
     ]
    }
   ],
   "source": [
    "#Norms(4p) - implement function(student)\n",
    "def cal_norm(vec, p):\n",
    "    value = 0\n",
    "    if p == 2:\n",
    "        for element in vec:\n",
    "            value += element**2\n",
    "            value = value**0.5\n",
    "            \n",
    "    elif p == 1:\n",
    "        for element in vec:\n",
    "            value += np.absolute(element)\n",
    "    return value\n",
    "\n",
    "print(cal_norm(vec1, 1))\n",
    "print(cal_norm(vec1, 2))"
   ]
  },
  {
   "cell_type": "code",
   "execution_count": 15,
   "id": "0a0e59b4",
   "metadata": {},
   "outputs": [
    {
     "name": "stdout",
     "output_type": "stream",
     "text": [
      "6\n",
      "3.7416573867739413\n"
     ]
    }
   ],
   "source": [
    "# 파이썬의 numpy 모듈을 np로 임포트합니다.\n",
    "import numpy as np\n",
    "\n",
    "# cal_norm 함수를 정의합니다. 이 함수는 주어진 벡터의 p-노름을 계산합니다.\n",
    "def cal_norm(vec, p):\n",
    "    # value 변수를 초기화합니다.\n",
    "    value = 0\n",
    "    \n",
    "    # 만약 p가 2인 경우, 벡터의 각 원소의 제곱을 더한 후 제곱근을 계산합니다.\n",
    "    if p == 2:\n",
    "        for element in vec:\n",
    "            value += element**2\n",
    "        value = value**0.5\n",
    "            \n",
    "    # 만약 p가 1인 경우, 벡터의 각 원소의 절댓값을 더합니다.\n",
    "    elif p == 1:\n",
    "        for element in vec:\n",
    "            value += np.absolute(element)\n",
    "            \n",
    "    # 최종적으로 계산된 값(value)을 반환합니다.\n",
    "    return value\n",
    "\n",
    "# 테스트용 벡터를 정의합니다.\n",
    "vec1 = [1, 2, 3]\n",
    "\n",
    "# p=1일 때의 노름을 계산하고 출력합니다.\n",
    "print(cal_norm(vec1, 1))\n",
    "\n",
    "# p=2일 때의 노름을 계산하고 출력합니다.\n",
    "print(cal_norm(vec1, 2))"
   ]
  },
  {
   "cell_type": "code",
   "execution_count": null,
   "id": "2a5ecb48",
   "metadata": {},
   "outputs": [],
   "source": []
  },
  {
   "cell_type": "code",
   "execution_count": null,
   "id": "46b1edf2",
   "metadata": {},
   "outputs": [],
   "source": []
  },
  {
   "cell_type": "code",
   "execution_count": null,
   "id": "acac43a6",
   "metadata": {},
   "outputs": [],
   "source": []
  },
  {
   "cell_type": "code",
   "execution_count": null,
   "id": "fe77d7e9",
   "metadata": {},
   "outputs": [],
   "source": []
  },
  {
   "cell_type": "code",
   "execution_count": null,
   "id": "8acff90a",
   "metadata": {},
   "outputs": [],
   "source": []
  },
  {
   "cell_type": "code",
   "execution_count": null,
   "id": "c8f637e9",
   "metadata": {},
   "outputs": [],
   "source": []
  },
  {
   "cell_type": "code",
   "execution_count": null,
   "id": "71cfb4c8",
   "metadata": {},
   "outputs": [],
   "source": []
  }
 ],
 "metadata": {
  "kernelspec": {
   "display_name": "Python 3 (ipykernel)",
   "language": "python",
   "name": "python3"
  },
  "language_info": {
   "codemirror_mode": {
    "name": "ipython",
    "version": 3
   },
   "file_extension": ".py",
   "mimetype": "text/x-python",
   "name": "python",
   "nbconvert_exporter": "python",
   "pygments_lexer": "ipython3",
   "version": "3.11.4"
  }
 },
 "nbformat": 4,
 "nbformat_minor": 5
}
