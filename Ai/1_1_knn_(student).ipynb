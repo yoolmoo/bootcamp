{
 "cells": [
  {
   "cell_type": "code",
   "execution_count": 10,
   "metadata": {
    "id": "FHyMBmotGwTT"
   },
   "outputs": [],
   "source": [
    "from sklearn.datasets import load_iris\n",
    "from sklearn.model_selection import train_test_split\n",
    "from sklearn.metrics import accuracy_score\n",
    "import numpy as np\n",
    "\n",
    "iris = load_iris()\n",
    "#대문자 x는 행렬, y는 벡터\n",
    "X, y = iris.data, iris.target\n",
    "#                                                   전체 샘플들중에서 0.2를 샘플로 만들라\n",
    "X_train, X_test, y_train, y_test = train_test_split(X, y, test_size = 0.2)\n",
    "\n",
    "# 학습에 필요한 x, 학습에 필요한 y, 학습에 필요한 샘플 \n",
    "def nn1(x_train, y_train, x_test):\n",
    "    #                       120                 30\n",
    "  distances = np.ones((x_train.shape[0], x_test.shape[0]))\n",
    "  #이중for문\n",
    "  for train_idx, train_x in np.ndenumerate(x_train):\n",
    "    for test_idx, test_x in np.ndenumerate(x_test):\n",
    "      distances[train_idx, test_idx] = np.linalg.norm( train_x - test_x )\n",
    "  min_idx = np.argmin(distances, axis = 0)\n",
    "  return y_train[min_idx]\n",
    "# def knn(x_train, y_train, x_test, k):"
   ]
  },
  {
   "cell_type": "code",
   "execution_count": 11,
   "metadata": {},
   "outputs": [],
   "source": [
    "y_pred_1nn = nn1( X_train, y_train, X_test )\n",
    "# y_pred_knn = knn(X_train, y_train, X_test, 5)"
   ]
  },
  {
   "cell_type": "code",
   "execution_count": 12,
   "metadata": {},
   "outputs": [
    {
     "name": "stdout",
     "output_type": "stream",
     "text": [
      "1nn acc: 0.9333333333333333\n"
     ]
    },
    {
     "ename": "NameError",
     "evalue": "name 'accuracy_knn' is not defined",
     "output_type": "error",
     "traceback": [
      "\u001b[1;31m---------------------------------------------------------------------------\u001b[0m",
      "\u001b[1;31mNameError\u001b[0m                                 Traceback (most recent call last)",
      "Cell \u001b[1;32mIn[12], line 7\u001b[0m\n\u001b[0;32m      2\u001b[0m \u001b[38;5;66;03m# accuracy_knn = accuracy_score(y_test, y_pred_knn)\u001b[39;00m\n\u001b[0;32m      6\u001b[0m \u001b[38;5;28mprint\u001b[39m(\u001b[38;5;124m'\u001b[39m\u001b[38;5;124m1nn acc:\u001b[39m\u001b[38;5;124m'\u001b[39m, accuracy_1nn)\n\u001b[1;32m----> 7\u001b[0m \u001b[38;5;28mprint\u001b[39m(\u001b[38;5;124m'\u001b[39m\u001b[38;5;124mknn acc:\u001b[39m\u001b[38;5;124m'\u001b[39m, accuracy_knn)\n",
      "\u001b[1;31mNameError\u001b[0m: name 'accuracy_knn' is not defined"
     ]
    }
   ],
   "source": [
    "accuracy_1nn = accuracy_score(y_test, y_pred_1nn)\n",
    "# accuracy_knn = accuracy_score(y_test, y_pred_knn)\n",
    "\n",
    "\n",
    "\n",
    "print('1nn acc:', accuracy_1nn)\n",
    "print('knn acc:', accuracy_knn)"
   ]
  },
  {
   "cell_type": "code",
   "execution_count": null,
   "metadata": {},
   "outputs": [],
   "source": []
  }
 ],
 "metadata": {
  "colab": {
   "provenance": []
  },
  "kernelspec": {
   "display_name": "Python 3 (ipykernel)",
   "language": "python",
   "name": "python3"
  },
  "language_info": {
   "codemirror_mode": {
    "name": "ipython",
    "version": 3
   },
   "file_extension": ".py",
   "mimetype": "text/x-python",
   "name": "python",
   "nbconvert_exporter": "python",
   "pygments_lexer": "ipython3",
   "version": "3.11.4"
  }
 },
 "nbformat": 4,
 "nbformat_minor": 1
}
