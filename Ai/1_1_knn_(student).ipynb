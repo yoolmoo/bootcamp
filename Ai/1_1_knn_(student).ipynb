{
 "cells": [
  {
   "cell_type": "code",
   "execution_count": null,
   "metadata": {
    "id": "FHyMBmotGwTT"
   },
   "outputs": [],
   "source": [
    "from sklearn.datasets import load_iris\n",
    "from sklearn.model_selection import train_test_split\n",
    "from sklearn.metrics import accuracy_score\n",
    "import numpy as np\n",
    "\n",
    "iris = load_iris()\n",
    "X, y = iris.data, iris.target\n",
    "\n",
    "X_train, X_test, y_train, y_test = train_test_split(X, y, test_size = 0.2)\n",
    "\n",
    "def nn1(x_train, y_train, x_test):\n",
    "  distances = np.ones((x_train.shape[0], x_test.shape[0]))\n",
    "  for train_idx, train_x in np.ndenumerate(x_train):\n",
    "    for test_idx, test_x in np.ndenumerate(x_test):\n",
    "      distances[train_idx, test_idx] = np.linalg.norm( train_x - test_x )\n",
    "  min_idx = np.argmin(distances, axis = 0)\n",
    "  return y_train[min_idx]\n",
    "\n",
    "# def knn(x_train, y_train, x_test, k):\n",
    "\n",
    "y_pred_1nn = nn1( X_train, y_train, X_test )\n",
    "# y_pred_knn = knn(X_train, y_train, X_test, 5)\n",
    "\n",
    "accuracy_1nn = accuracy_score(y_test, y_pred_1nn)\n",
    "# accuracy_knn = accuracy_score(y_test, y_pred_knn)\n",
    "\n",
    "print('1nn acc:', accuracy_1nn)\n",
    "print('knn acc:', accuracy_knn)"
   ]
  }
 ],
 "metadata": {
  "colab": {
   "provenance": []
  },
  "kernelspec": {
   "display_name": "Python 3",
   "name": "python3"
  },
  "language_info": {
   "name": "python"
  }
 },
 "nbformat": 4,
 "nbformat_minor": 0
}
