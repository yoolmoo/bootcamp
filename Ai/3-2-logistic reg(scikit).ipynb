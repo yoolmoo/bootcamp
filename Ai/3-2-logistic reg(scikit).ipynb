{
 "cells": [
  {
   "cell_type": "code",
   "execution_count": 5,
   "metadata": {
    "colab": {
     "base_uri": "https://localhost:8080/"
    },
    "executionInfo": {
     "elapsed": 310,
     "status": "ok",
     "timestamp": 1705490799901,
     "user": {
      "displayName": "임현기",
      "userId": "08215592613104886603"
     },
     "user_tz": -540
    },
    "id": "NI9VjxnYz_0P",
    "outputId": "91d31983-ac6d-4352-b5b5-1698bd64441f"
   },
   "outputs": [
    {
     "name": "stdout",
     "output_type": "stream",
     "text": [
      "Binary Predictions:\n",
      "[0 1]\n"
     ]
    },
    {
     "name": "stderr",
     "output_type": "stream",
     "text": [
      "/usr/local/lib/python3.10/dist-packages/sklearn/utils/validation.py:1143: DataConversionWarning: A column-vector y was passed when a 1d array was expected. Please change the shape of y to (n_samples, ), for example using ravel().\n",
      "  y = column_or_1d(y, warn=True)\n"
     ]
    }
   ],
   "source": [
    "import numpy as np\n",
    "import matplotlib.pyplot as plt\n",
    "from sklearn.linear_model import LogisticRegression\n",
    "\n",
    "# Generate synthetic data for binary classification\n",
    "np.random.seed(42)\n",
    "X = 2 * np.random.rand(100, 1)\n",
    "y = ((4 + 3 * X + np.random.randn(100, 1)*0.3) > 6)*1\n",
    "\n",
    "log_reg = LogisticRegression()\n",
    "log_reg.fit(X, y)\n",
    "\n",
    "# Make predictions on new data\n",
    "X_new = np.array([[0], [2]])\n",
    "y_predict = log_reg.predict(X_new)\n",
    "\n",
    "# Make binary predictions\n",
    "print(\"Binary Predictions:\")\n",
    "print(y_predict)\n"
   ]
  }
 ],
 "metadata": {
  "colab": {
   "authorship_tag": "ABX9TyOJZc5a3CZyfjKrrxG7VIl9",
   "provenance": []
  },
  "kernelspec": {
   "display_name": "Python 3",
   "name": "python3"
  },
  "language_info": {
   "name": "python"
  }
 },
 "nbformat": 4,
 "nbformat_minor": 0
}
