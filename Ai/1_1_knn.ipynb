{
 "cells": [
  {
   "cell_type": "code",
   "execution_count": null,
   "metadata": {
    "colab": {
     "base_uri": "https://localhost:8080/"
    },
    "id": "2OhOzPiSr0YP",
    "outputId": "24f17b9e-7e00-46de-9370-59464dc377a1"
   },
   "outputs": [
    {
     "name": "stdout",
     "output_type": "stream",
     "text": [
      "1nn acc: 0.9333333333333333\n",
      "knn acc: 0.9666666666666667\n"
     ]
    }
   ],
   "source": [
    "from sklearn.datasets import load_iris\n",
    "from sklearn.model_selection import train_test_split\n",
    "from sklearn.metrics import accuracy_score\n",
    "import numpy as np\n",
    "\n",
    "iris = load_iris()\n",
    "X, y = iris.data, iris.target\n",
    "\n",
    "X_train, X_test, y_train, y_test = train_test_split(X, y, test_size = 0.2)\n",
    "\n",
    "def nn1(x_train, y_train, x_test):\n",
    "  distances = np.ones((x_train.shape[0], x_test.shape[0]))\n",
    "  for train_idx, train_x in np.ndenumerate(x_train):\n",
    "    for test_idx, test_x in np.ndenumerate(x_test):\n",
    "      distances[train_idx, test_idx] = np.linalg.norm( train_x - test_x )\n",
    "  min_idx = np.argmin(distances, axis = 0)\n",
    "  return y_train[min_idx]\n",
    "\n",
    "def knn(x_train, y_train, x_test, k):\n",
    "  distances = np.ones((x_train.shape[0], x_test.shape[0]))\n",
    "  for train_idx, train_x in np.ndenumerate(x_train):\n",
    "    for test_idx, test_x in np.ndenumerate(x_test):\n",
    "      distances[train_idx, test_idx] = np.linalg.norm( train_x - test_x )\n",
    "  kidx = np.argsort(distances, axis = 0)[:k,:]\n",
    "\n",
    "  y_pred = np.zeros(x_test.shape[0])\n",
    "  for idx in range(x_test.shape[0]):\n",
    "    unique_labels, counts = np.unique( y_train[kidx[:,idx]], return_counts=True )\n",
    "    y_pred[idx] = unique_labels[np.argmax(counts)]\n",
    "\n",
    "  return y_pred\n",
    "\n",
    "y_pred_1nn = nn1( X_train, y_train, X_test )\n",
    "y_pred_knn = knn(X_train, y_train, X_test, 3)\n",
    "\n",
    "accuracy_1nn = accuracy_score(y_test, y_pred_1nn)\n",
    "accuracy_knn = accuracy_score(y_test, y_pred_knn)\n",
    "\n",
    "print('1nn acc:', accuracy_1nn)\n",
    "print('knn acc:', accuracy_knn)"
   ]
  }
 ],
 "metadata": {
  "colab": {
   "provenance": []
  },
  "kernelspec": {
   "display_name": "Python 3",
   "name": "python3"
  },
  "language_info": {
   "name": "python"
  }
 },
 "nbformat": 4,
 "nbformat_minor": 0
}
